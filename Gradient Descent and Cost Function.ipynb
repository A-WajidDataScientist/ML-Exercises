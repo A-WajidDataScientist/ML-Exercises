{
 "cells": [
  {
   "cell_type": "code",
   "execution_count": 1,
   "metadata": {},
   "outputs": [
    {
     "name": "stdout",
     "output_type": "stream",
     "text": [
      "     name  math  cs\n",
      "0   david    92  98\n",
      "1   laura    56  68\n",
      "2  sanjay    88  81\n",
      "3     wei    70  80\n",
      "4    jeff    80  83\n",
      "Index(['name', 'math', 'cs'], dtype='object')\n"
     ]
    }
   ],
   "source": [
    "import pandas as pd\n",
    "\n",
    "# Load the CSV file\n",
    "file_path = 'test_scores.csv'\n",
    "df = pd.read_csv(file_path)\n",
    "\n",
    "# Display the first few rows of the DataFrame\n",
    "print(df.head())\n",
    "\n",
    "# Display the column names\n",
    "print(df.columns)\n"
   ]
  },
  {
   "cell_type": "code",
   "execution_count": 4,
   "metadata": {},
   "outputs": [
    {
     "name": "stdout",
     "output_type": "stream",
     "text": [
      "Optimized theta: [0.78144305 1.0337348 ]\n"
     ]
    },
    {
     "data": {
      "image/png": "[encoded data removed]",
      "text/plain": [
       "<Figure size 640x480 with 1 Axes>"
      ]
     },
     "metadata": {},
     "output_type": "display_data"
    }
   ],
   "source": [
    "import numpy as np\n",
    "import matplotlib.pyplot as plt\n",
    "\n",
    "# Assuming 'Test1' and 'Test2' are the column names for the features and target variable\n",
    "x = df['math'].values\n",
    "y = df['cs'].values\n",
    "\n",
    "# Add a column of ones to x (for the intercept term)\n",
    "X = np.c_[np.ones(x.shape[0]), x]\n",
    "\n",
    "# Initialize theta (parameters)\n",
    "theta = np.zeros(2)\n",
    "\n",
    "# Define hyperparameters\n",
    "alpha = 0.00009  # Learning rate\n",
    "iterations = 100000\n",
    "\n",
    "# Cost function\n",
    "def compute_cost(X, y, theta):\n",
    "    m = len(y)\n",
    "    h = X.dot(theta)\n",
    "    return (1/(2*m)) * np.sum((h - y)**2)\n",
    "\n",
    "# Gradient descent\n",
    "def gradient_descent(X, y, theta, alpha, iterations):\n",
    "    m = len(y)\n",
    "    cost_history = np.zeros(iterations)\n",
    "    \n",
    "    for i in range(iterations):\n",
    "        h = X.dot(theta)\n",
    "        theta -= (alpha/m) * X.T.dot(h - y)\n",
    "        cost_history[i] = compute_cost(X, y, theta)\n",
    "    \n",
    "    return theta, cost_history\n",
    "\n",
    "# Perform gradient descent\n",
    "theta, cost_history = gradient_descent(X, y, theta, alpha, iterations)\n",
    "\n",
    "print(f\"Optimized theta: {theta}\")\n",
    "\n",
    "# Plot cost function history\n",
    "plt.plot(range(iterations), cost_history, 'b-')\n",
    "plt.xlabel('Iterations')\n",
    "plt.ylabel('Cost')\n",
    "plt.title('Cost Function History')\n",
    "plt.show()\n"
   ]
  },
  {
   "cell_type": "code",
   "execution_count": null,
   "metadata": {},
   "outputs": [],
   "source": []
  }
 ],
 "metadata": {
  "kernelspec": {
   "display_name": "Python 3",
   "language": "python",
   "name": "python3"
  },
  "language_info": {
   "codemirror_mode": {
    "name": "ipython",
    "version": 3
   },
   "file_extension": ".py",
   "mimetype": "text/x-python",
   "name": "python",
   "nbconvert_exporter": "python",
   "pygments_lexer": "ipython3",
   "version": "3.12.1"
  }
 },
 "nbformat": 4,
 "nbformat_minor": 2
}
